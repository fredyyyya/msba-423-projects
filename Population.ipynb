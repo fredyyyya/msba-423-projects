{
 "cells": [
  {
   "attachments": {},
   "cell_type": "markdown",
   "metadata": {},
   "source": [
    "## Population"
   ]
  },
  {
   "attachments": {},
   "cell_type": "markdown",
   "metadata": {},
   "source": [
    "### Set-up"
   ]
  },
  {
   "cell_type": "code",
   "execution_count": 1,
   "metadata": {},
   "outputs": [],
   "source": [
    "# Load libraries\n",
    "from pyspark.sql import SparkSession\n",
    "from pyspark.sql import functions as F\n",
    "from pyspark.sql.functions import col, when, udf, stddev\n",
    "from pyspark.sql.types import FloatType\n",
    "from pyspark.ml import Pipeline\n",
    "from pyspark.ml.classification import LogisticRegression\n",
    "from pyspark.ml.feature import StringIndexer, OneHotEncoder, VectorAssembler\n",
    "from pyspark.ml.evaluation import BinaryClassificationEvaluator\n",
    "\n",
    "import pandas as pd\n",
    "import matplotlib.pyplot as plt"
   ]
  },
  {
   "cell_type": "code",
   "execution_count": 2,
   "metadata": {},
   "outputs": [
    {
     "name": "stderr",
     "output_type": "stream",
     "text": [
      "23/06/08 16:12:00 WARN Utils: Your hostname, Shaolongs-MacBook-Pro.local resolves to a loopback address: 127.0.0.1; using 192.168.4.167 instead (on interface en0)\n",
      "23/06/08 16:12:00 WARN Utils: Set SPARK_LOCAL_IP if you need to bind to another address\n",
      "Setting default log level to \"WARN\".\n",
      "To adjust logging level use sc.setLogLevel(newLevel). For SparkR, use setLogLevel(newLevel).\n",
      "23/06/08 16:12:00 WARN NativeCodeLoader: Unable to load native-hadoop library for your platform... using builtin-java classes where applicable\n"
     ]
    }
   ],
   "source": [
    "# Start session\n",
    "spark = SparkSession\\\n",
    "        .builder\\\n",
    "        .config(\"spark.driver.memory\", \"4g\")\\\n",
    "        .config(\"spark.executor.memory\", \"4g\")\\\n",
    "        .getOrCreate()"
   ]
  },
  {
   "cell_type": "code",
   "execution_count": 3,
   "metadata": {},
   "outputs": [],
   "source": [
    "# Read data\n",
    "path = \"/Users/shaolongxue/Documents/MSBA/3_Spring_Quarter/BAX423_Big_Data_Analytics/Final Project/Data/US_Traffic_v02.csv\"\n",
    "data = spark.read.format('csv').option('header', 'true').load(path)"
   ]
  },
  {
   "cell_type": "code",
   "execution_count": 4,
   "metadata": {},
   "outputs": [
    {
     "name": "stderr",
     "output_type": "stream",
     "text": [
      "23/06/08 16:12:07 WARN package: Truncated the string representation of a plan since it was too large. This behavior can be adjusted by setting 'spark.sql.debug.maxToStringFields'.\n",
      "                                                                                \r"
     ]
    }
   ],
   "source": [
    "# Select relevant features\n",
    "cols_to_remove = [\"Start_Lat\", \"Start_Lng\", \"End_Lat\", \"End_Lng\", \"Description\", \n",
    "                  \"Number\", \"Street\", \"Country\", \"Timezone\", \"Airport_Code\", \"Zipcode\", \n",
    "                  \"Weather_Timestamp\", \"Sunrise_Sunset\", \"Civil_Twilight\", \"Nautical_Twilight\", \n",
    "                  \"Astronomical_Twilight\", \"Weather_Condition\", \"Wind_Direction\"]\n",
    "\n",
    "df = data.select([col for col in data.columns if col not in cols_to_remove])\n",
    "\n",
    "df = df.na.drop()\n",
    "\n",
    "# Cast numeric columns to appropriate types\n",
    "double_columns = [\"Distance(mi)\", \"Temperature(F)\", \"Wind_Chill(F)\", \n",
    "                   \"Humidity(%)\", \"Pressure(in)\", \"Visibility(mi)\", \n",
    "                   \"Wind_Speed(mph)\", \"Precipitation(in)\", \"Duration\"]\n",
    "\n",
    "integer_columns = [\"Population\", \"Start_Year\", \"Start_Month\"]\n",
    "\n",
    "for column in double_columns:\n",
    "    df = df.withColumn(column, col(column).cast(\"double\"))\n",
    "\n",
    "for column in integer_columns:\n",
    "    df = df.withColumn(column, col(column).cast(\"integer\"))\n",
    "\n",
    "# Remove one outlier row wither Side is \"N\"\n",
    "df = df.where(df.Side != 'N')\n",
    "# Remove outliers where duration is larger than 7 days\n",
    "df = df.where(df.Duration <= 168)\n",
    "\n",
    "# Encode binary categorical columns\n",
    "binary_columns = ['Amenity', 'Bump', 'Crossing', 'Give_Way', 'Junction', 'No_Exit', 'Railway', 'Roundabout', 'Station', 'Stop', 'Traffic_Calming', 'Traffic_Signal', 'Turning_Loop']\n",
    "\n",
    "for column in binary_columns:\n",
    "    df = df.withColumn(column, when(col(column) == \"true\", 1).otherwise(0))\n",
    "\n",
    "df = df.withColumn(\"Side\", when(col(\"Side\") == \"L\", 1).otherwise(0))\n",
    "\n",
    "# Convert values in Start_TOD_Category column [Necessary for SMOTE]\n",
    "df = df.withColumn(\"Start_TOD_Category\",\n",
    "                    when(df[\"Start_TOD_Category\"] == \"Midnight\", \"1\")\n",
    "                   .when(df[\"Start_TOD_Category\"] == \"Early Morning\", \"2\")\n",
    "                   .when(df[\"Start_TOD_Category\"] == \"Late Morning\", \"3\")\n",
    "                   .when(df[\"Start_TOD_Category\"] == \"Early Afternoon\", \"4\")\n",
    "                   .when(df[\"Start_TOD_Category\"] == \"Late Afternoon\", \"5\")\n",
    "                   .when(df[\"Start_TOD_Category\"] == \"Evening\", \"6\"))\n",
    "\n",
    "# First convert the categories from 'string' to 'index'\n",
    "indexer = StringIndexer(inputCol=\"Start_TOD_Category\", outputCol=\"Start_TOD_Category_index\")\n",
    "df = indexer.fit(df).transform(df)\n",
    "\n",
    "indexer = StringIndexer(inputCol=\"Start_Weekday\", outputCol=\"Start_Weekday_index\")\n",
    "df = indexer.fit(df).transform(df)\n",
    "\n",
    "# Then one-hot encode these indices\n",
    "encoder = OneHotEncoder(inputCols=[\"Start_TOD_Category_index\", \"Start_Weekday_index\"],\n",
    "                        outputCols=[\"Start_TOD_Category_vec\", \"Start_Weekday_vec\"])\n",
    "model = encoder.fit(df)\n",
    "df = model.transform(df)"
   ]
  },
  {
   "attachments": {},
   "cell_type": "markdown",
   "metadata": {},
   "source": [
    "### EDA"
   ]
  },
  {
   "cell_type": "code",
   "execution_count": 6,
   "metadata": {},
   "outputs": [
    {
     "name": "stderr",
     "output_type": "stream",
     "text": [
      "                                                                                \r"
     ]
    },
    {
     "data": {
      "image/png": "[encoded data removed]",
      "text/plain": [
       "<Figure size 1000x600 with 1 Axes>"
      ]
     },
     "metadata": {},
     "output_type": "display_data"
    }
   ],
   "source": [
    "# First, convert the precipitation data to a list in your local environment\n",
    "population_data = df.select('Population').dropna().rdd.flatMap(lambda x: x).collect()\n",
    "\n",
    "# Now plot the data using matplotlib\n",
    "plt.figure(figsize=(10,6))\n",
    "plt.hist(population_data, bins=50, color='blue', alpha=0.7)\n",
    "plt.yscale('log', nonpositive='clip') # This line sets the y-axis to a logarithmic scale\n",
    "plt.title('Distribution of Population')\n",
    "plt.xlabel('Population')\n",
    "plt.ylabel('Frequency')\n",
    "plt.grid(True)\n",
    "plt.show()"
   ]
  },
  {
   "cell_type": "code",
   "execution_count": 5,
   "metadata": {},
   "outputs": [
    {
     "name": "stderr",
     "output_type": "stream",
     "text": [
      "[Stage 20:==================================================>     (10 + 1) / 11]\r"
     ]
    },
    {
     "name": "stdout",
     "output_type": "stream",
     "text": [
      "Precipitation median =  105087.0\n",
      "Precipitation 65th percentile =  399929.0\n",
      "Precipitation 75th percentile =  1062018.0\n",
      "Precipitation 85th percentile =  1927699.0\n",
      "Precipitation 95th percentile =  5668165.0\n",
      "Precipitation mean =  1176674.037\n",
      "Precipitation standard dev =  2575865.468\n"
     ]
    },
    {
     "name": "stderr",
     "output_type": "stream",
     "text": [
      "                                                                                \r"
     ]
    }
   ],
   "source": [
    "# Calculate summary stats\n",
    "pop_median = df.stat.approxQuantile('Population', [0.5], 0)[0]\n",
    "pop_65 = df.stat.approxQuantile('Population', [0.65], 0)[0]\n",
    "pop_75 = df.stat.approxQuantile('Population', [0.75], 0)[0]\n",
    "pop_85 = df.stat.approxQuantile('Population', [0.85], 0)[0]\n",
    "pop_95 = df.stat.approxQuantile('Population', [0.95], 0)[0]\n",
    "pop_mean = df.agg(F.avg('Population')).first()[0]\n",
    "pop_sd = df.agg(stddev(\"Population\")).collect()[0][0]\n",
    "print(\"Population median = \", pop_median)\n",
    "print(\"Population 65th percentile = \", pop_65)\n",
    "print(\"Population 75th percentile = \", pop_75)\n",
    "print(\"Population 85th percentile = \", pop_85)\n",
    "print(\"Population 95th percentile = \", pop_95)\n",
    "print(\"Population mean = \", round(pop_mean, 3))\n",
    "print(\"Population standard dev = \", round(pop_sd, 3))"
   ]
  },
  {
   "cell_type": "code",
   "execution_count": 9,
   "metadata": {},
   "outputs": [
    {
     "name": "stderr",
     "output_type": "stream",
     "text": [
      "                                                                                \r"
     ]
    },
    {
     "name": "stdout",
     "output_type": "stream",
     "text": [
      "Mean of Severity = 2.074925982620811\n"
     ]
    },
    {
     "name": "stderr",
     "output_type": "stream",
     "text": [
      "                                                                                \r"
     ]
    },
    {
     "name": "stdout",
     "output_type": "stream",
     "text": [
      "Mean of Duration = 2.5940729781570435\n",
      "Median of Duration = 1.7\n"
     ]
    },
    {
     "name": "stderr",
     "output_type": "stream",
     "text": [
      "[Stage 297:>                                                        (0 + 2) / 2]\r"
     ]
    },
    {
     "name": "stdout",
     "output_type": "stream",
     "text": [
      "Mean of Distance = 0.6984340712537626\n",
      "Median of Distance = 0.21100000000000002\n"
     ]
    },
    {
     "name": "stderr",
     "output_type": "stream",
     "text": [
      "                                                                                \r"
     ]
    }
   ],
   "source": [
    "# Calculate summary statistics of target variables\n",
    "sev_mean = df.agg(F.avg(\"Severity\")).first()[0]\n",
    "print(\"Mean of Severity =\", sev_mean)\n",
    "\n",
    "dur_mean = df.agg(F.avg(\"Duration\")).first()[0]\n",
    "dur_median = df.stat.approxQuantile(\"Duration\", [0.5], 0)[0]\n",
    "print(\"Mean of Duration =\", dur_mean)\n",
    "print(\"Median of Duration =\", dur_median)\n",
    "\n",
    "dis_mean = df.agg(F.avg(\"Distance(mi)\")).first()[0]\n",
    "dis_median = df.stat.approxQuantile(\"Distance(mi)\", [0.5], 0)[0]\n",
    "print(\"Mean of Distance =\", dis_mean)\n",
    "print(\"Median of Distance =\", dis_median)"
   ]
  },
  {
   "attachments": {},
   "cell_type": "markdown",
   "metadata": {},
   "source": [
    "### Severity"
   ]
  },
  {
   "attachments": {},
   "cell_type": "markdown",
   "metadata": {},
   "source": [
    "#### Address imbalance, calculate PS, model eval, matching, calculate ATE"
   ]
  },
  {
   "cell_type": "code",
   "execution_count": 29,
   "metadata": {},
   "outputs": [],
   "source": [
    "cutoff = [pop_median, pop_mean, pop_65, pop_75, pop_85, pop_95]\n",
    "covariates = ['Side', 'Wind_Chill(F)', 'Pressure(in)', 'Wind_Speed(mph)', 'Amenity', 'Bump', 'Crossing', \n",
    "              'Give_Way', 'Junction', 'No_Exit', 'Railway', 'Roundabout', 'Station', 'Stop', 'Traffic_Calming', \n",
    "              'Traffic_Signal', 'Turning_Loop', 'Precipitation(in)', 'Start_Weekday_vec', 'Start_TOD_Category_vec']\n",
    "selected_columns = [\"Severity\", \"City Size\"] + covariates"
   ]
  },
  {
   "cell_type": "code",
   "execution_count": null,
   "metadata": {},
   "outputs": [],
   "source": [
    "from sklearn.neighbors import NearestNeighbors\n",
    "\n",
    "for i in cutoff:\n",
    "    print(\"\\n\")\n",
    "    print(\"Cut-off =\", i)\n",
    "    # Create treatment variables\n",
    "    df = df.withColumn('City Size', when(df['Population'] >= i, 1).otherwise(0))\n",
    "\n",
    "    # Check balance\n",
    "    print(\"Treatment & Control Group Balance:\")\n",
    "    print(df.groupBy(\"City Size\").count().show())\n",
    "\n",
    "    df_ps = df.select(selected_columns)\n",
    "\n",
    "    # Define the covariates\n",
    "    assembler = VectorAssembler(inputCols=covariates, outputCol=\"features\")\n",
    "    train_data, test_data = df_ps.randomSplit([0.8, 0.2], seed=1)\n",
    "    lr = LogisticRegression(featuresCol='features', labelCol='City Size', maxIter=10)\n",
    "    pipeline = Pipeline(stages=[assembler, lr])\n",
    "    model = pipeline.fit(train_data)\n",
    "\n",
    "    # Predict and add the propensity scores to the DataFrame\n",
    "    ps = model.transform(test_data).select('Severity', 'City Size', 'features', 'probability')\n",
    "\n",
    "    # Extract the probability of treatment (i.e., the propensity score)\n",
    "    extract_prob = udf(lambda x: float(x[1]), FloatType())\n",
    "    ps = ps.withColumn(\"propensity_score\", extract_prob('probability'))\n",
    "\n",
    "    # Evaluate model performance on the test data\n",
    "    auc = BinaryClassificationEvaluator(labelCol='City Size', rawPredictionCol='probability', metricName='areaUnderROC')\n",
    "    AUC = round(auc.evaluate(ps), 3)\n",
    "    print('AUC =', AUC)\n",
    "\n",
    "    ps_pd = ps.toPandas()\n",
    "\n",
    "    # Create two dataframes for treatment and control groups\n",
    "    df_treatment = ps_pd[ps_pd['City Size'] == 1]\n",
    "    df_control = ps_pd[ps_pd['City Size'] == 0]\n",
    "\n",
    "    # Fit nearest neighbors model to control group\n",
    "    nbrs = NearestNeighbors(n_neighbors=1).fit(df_control[['propensity_score']])\n",
    "\n",
    "    # Find nearest neighbors in control group for each treatment case\n",
    "    distances, indices = nbrs.kneighbors(df_treatment[['propensity_score']])\n",
    "\n",
    "    # Create dataframe of distances and indices\n",
    "    matches = pd.DataFrame({'distance': distances.flatten(), 'control_index': indices.flatten(),\n",
    "                            'treatment_index': df_treatment.index})\n",
    "\n",
    "    # Merge data from treatment and control cases into the matches dataframe\n",
    "    matched_pairs = matches.merge(df_treatment, left_on='treatment_index', right_index=True) \\\n",
    "        .merge(df_control, left_on='control_index', right_index=True, suffixes=('_treatment', '_control'))\n",
    "\n",
    "    matched_pairs['Severity_treatment'] = matched_pairs['Severity_treatment'].astype(float)\n",
    "    matched_pairs['Severity_control'] = matched_pairs['Severity_control'].astype(float)\n",
    "\n",
    "    matched_pairs['treatment_effect'] = matched_pairs['Severity_treatment'] - matched_pairs['Severity_control']\n",
    "    average_treatment_effect = matched_pairs['treatment_effect'].mean()\n",
    "    print(\"ATE =\", round(average_treatment_effect, 4))"
   ]
  },
  {
   "attachments": {},
   "cell_type": "markdown",
   "metadata": {},
   "source": [
    "#### Summary"
   ]
  },
  {
   "attachments": {},
   "cell_type": "markdown",
   "metadata": {},
   "source": [
    "The average treatment effect of population size on accident severity (measured on a scale of 1 to 4, with 4 being the most severe) is 0.0146 unit. \n",
    "\n",
    "median: AUC = 0.632, ATE = -0.0473\n",
    "\n",
    "65th: AUC = 0.63, ATE = -0.0308\n",
    "\n",
    "75th: AUC = , ATE = -0.0227\n",
    "\n",
    "mean: AUC = 0.636, ATE = -0.0054\n",
    "\n",
    "85th: AUC = 0.649, ATE = 0.0121 \n",
    "\n",
    "95th: AUC = 0.666, ATE = 0.0146"
   ]
  },
  {
   "attachments": {},
   "cell_type": "markdown",
   "metadata": {},
   "source": [
    "### Duration"
   ]
  },
  {
   "attachments": {},
   "cell_type": "markdown",
   "metadata": {},
   "source": [
    "#### Address imbalance, calculate PS, model eval, matching, calculate ATE"
   ]
  },
  {
   "cell_type": "code",
   "execution_count": 30,
   "metadata": {},
   "outputs": [],
   "source": [
    "cutoff = [pop_median, pop_mean, pop_65, pop_75, pop_85, pop_95]\n",
    "covariates = ['Side', 'Wind_Chill(F)', 'Pressure(in)', 'Wind_Speed(mph)', 'Amenity', 'Bump', 'Crossing', \n",
    "              'Give_Way', 'Junction', 'No_Exit', 'Railway', 'Roundabout', 'Station', 'Stop', 'Traffic_Calming', \n",
    "              'Traffic_Signal', 'Turning_Loop', 'Precipitation(in)', 'Start_Weekday_vec', 'Start_TOD_Category_vec']\n",
    "selected_columns = [\"Duration\", \"City Size\"] + covariates"
   ]
  },
  {
   "cell_type": "code",
   "execution_count": 31,
   "metadata": {},
   "outputs": [
    {
     "name": "stdout",
     "output_type": "stream",
     "text": [
      "\n",
      "\n",
      "Cut-off = 105087.0\n",
      "Treatment & Control Group Balance:\n"
     ]
    },
    {
     "name": "stderr",
     "output_type": "stream",
     "text": [
      "                                                                                \r"
     ]
    },
    {
     "name": "stdout",
     "output_type": "stream",
     "text": [
      "+---------+------+\n",
      "|City Size| count|\n",
      "+---------+------+\n",
      "|        1|872815|\n",
      "|        0|872721|\n",
      "+---------+------+\n",
      "\n",
      "None\n"
     ]
    },
    {
     "name": "stderr",
     "output_type": "stream",
     "text": [
      "                                                                                \r"
     ]
    },
    {
     "name": "stdout",
     "output_type": "stream",
     "text": [
      "AUC = 0.633\n"
     ]
    },
    {
     "name": "stderr",
     "output_type": "stream",
     "text": [
      "                                                                                \r"
     ]
    },
    {
     "name": "stdout",
     "output_type": "stream",
     "text": [
      "ATE = -0.0195\n",
      "\n",
      "\n",
      "Cut-off = 1176674.0367743776\n",
      "Treatment & Control Group Balance:\n"
     ]
    },
    {
     "name": "stderr",
     "output_type": "stream",
     "text": [
      "                                                                                \r"
     ]
    },
    {
     "name": "stdout",
     "output_type": "stream",
     "text": [
      "+---------+-------+\n",
      "|City Size|  count|\n",
      "+---------+-------+\n",
      "|        1| 393126|\n",
      "|        0|1352410|\n",
      "+---------+-------+\n",
      "\n",
      "None\n"
     ]
    },
    {
     "name": "stderr",
     "output_type": "stream",
     "text": [
      "                                                                                \r"
     ]
    },
    {
     "name": "stdout",
     "output_type": "stream",
     "text": [
      "AUC = 0.635\n"
     ]
    },
    {
     "name": "stderr",
     "output_type": "stream",
     "text": [
      "                                                                                \r"
     ]
    },
    {
     "name": "stdout",
     "output_type": "stream",
     "text": [
      "ATE = 0.0692\n",
      "\n",
      "\n",
      "Cut-off = 399929.0\n",
      "Treatment & Control Group Balance:\n"
     ]
    },
    {
     "name": "stderr",
     "output_type": "stream",
     "text": [
      "                                                                                \r"
     ]
    },
    {
     "name": "stdout",
     "output_type": "stream",
     "text": [
      "+---------+-------+\n",
      "|City Size|  count|\n",
      "+---------+-------+\n",
      "|        1| 611034|\n",
      "|        0|1134502|\n",
      "+---------+-------+\n",
      "\n",
      "None\n"
     ]
    },
    {
     "name": "stderr",
     "output_type": "stream",
     "text": [
      "                                                                                \r"
     ]
    },
    {
     "name": "stdout",
     "output_type": "stream",
     "text": [
      "AUC = 0.631\n"
     ]
    },
    {
     "name": "stderr",
     "output_type": "stream",
     "text": [
      "                                                                                \r"
     ]
    },
    {
     "name": "stdout",
     "output_type": "stream",
     "text": [
      "ATE = 0.0156\n",
      "\n",
      "\n",
      "Cut-off = 1062018.0\n",
      "Treatment & Control Group Balance:\n"
     ]
    },
    {
     "name": "stderr",
     "output_type": "stream",
     "text": [
      "                                                                                \r"
     ]
    },
    {
     "name": "stdout",
     "output_type": "stream",
     "text": [
      "+---------+-------+\n",
      "|City Size|  count|\n",
      "+---------+-------+\n",
      "|        1| 437042|\n",
      "|        0|1308494|\n",
      "+---------+-------+\n",
      "\n",
      "None\n"
     ]
    },
    {
     "name": "stderr",
     "output_type": "stream",
     "text": [
      "                                                                                \r"
     ]
    },
    {
     "name": "stdout",
     "output_type": "stream",
     "text": [
      "AUC = 0.627\n"
     ]
    },
    {
     "name": "stderr",
     "output_type": "stream",
     "text": [
      "                                                                                \r"
     ]
    },
    {
     "name": "stdout",
     "output_type": "stream",
     "text": [
      "ATE = 0.0556\n",
      "\n",
      "\n",
      "Cut-off = 1927699.0\n",
      "Treatment & Control Group Balance:\n"
     ]
    },
    {
     "name": "stderr",
     "output_type": "stream",
     "text": [
      "                                                                                \r"
     ]
    },
    {
     "name": "stdout",
     "output_type": "stream",
     "text": [
      "+---------+-------+\n",
      "|City Size|  count|\n",
      "+---------+-------+\n",
      "|        1| 286287|\n",
      "|        0|1459249|\n",
      "+---------+-------+\n",
      "\n",
      "None\n"
     ]
    },
    {
     "name": "stderr",
     "output_type": "stream",
     "text": [
      "                                                                                \r"
     ]
    },
    {
     "name": "stdout",
     "output_type": "stream",
     "text": [
      "AUC = 0.649\n"
     ]
    },
    {
     "name": "stderr",
     "output_type": "stream",
     "text": [
      "                                                                                \r"
     ]
    },
    {
     "name": "stdout",
     "output_type": "stream",
     "text": [
      "ATE = 0.1988\n",
      "\n",
      "\n",
      "Cut-off = 5668165.0\n",
      "Treatment & Control Group Balance:\n"
     ]
    },
    {
     "name": "stderr",
     "output_type": "stream",
     "text": [
      "                                                                                \r"
     ]
    },
    {
     "name": "stdout",
     "output_type": "stream",
     "text": [
      "+---------+-------+\n",
      "|City Size|  count|\n",
      "+---------+-------+\n",
      "|        1| 110293|\n",
      "|        0|1635243|\n",
      "+---------+-------+\n",
      "\n",
      "None\n"
     ]
    },
    {
     "name": "stderr",
     "output_type": "stream",
     "text": [
      "                                                                                \r"
     ]
    },
    {
     "name": "stdout",
     "output_type": "stream",
     "text": [
      "AUC = 0.67\n"
     ]
    },
    {
     "name": "stderr",
     "output_type": "stream",
     "text": [
      "                                                                                \r"
     ]
    },
    {
     "name": "stdout",
     "output_type": "stream",
     "text": [
      "ATE = 0.4093\n"
     ]
    }
   ],
   "source": [
    "from sklearn.neighbors import NearestNeighbors\n",
    "\n",
    "for i in cutoff:\n",
    "    print(\"\\n\")\n",
    "    print(\"Cut-off =\", i)\n",
    "    # Create treatment variables\n",
    "    df = df.withColumn('City Size', when(df['Population'] >= i, 1).otherwise(0))\n",
    "\n",
    "    # Check balance\n",
    "    print(\"Treatment & Control Group Balance:\")\n",
    "    print(df.groupBy(\"City Size\").count().show())\n",
    "\n",
    "    df_ps = df.select(selected_columns)\n",
    "\n",
    "    # Define the covariates\n",
    "    assembler = VectorAssembler(inputCols=covariates, outputCol=\"features\")\n",
    "    train_data, test_data = df_ps.randomSplit([0.8, 0.2], seed=1)\n",
    "    lr = LogisticRegression(featuresCol='features', labelCol='City Size', maxIter=10)\n",
    "    pipeline = Pipeline(stages=[assembler, lr])\n",
    "    model = pipeline.fit(train_data)\n",
    "\n",
    "    # Predict and add the propensity scores to the DataFrame\n",
    "    ps = model.transform(test_data).select('Duration', 'City Size', 'features', 'probability')\n",
    "\n",
    "    # Extract the probability of treatment (i.e., the propensity score)\n",
    "    extract_prob = udf(lambda x: float(x[1]), FloatType())\n",
    "    ps = ps.withColumn(\"propensity_score\", extract_prob('probability'))\n",
    "\n",
    "    # Evaluate model performance on the test data\n",
    "    auc = BinaryClassificationEvaluator(labelCol='City Size', rawPredictionCol='probability', metricName='areaUnderROC')\n",
    "    AUC = round(auc.evaluate(ps), 3)\n",
    "    print('AUC =', AUC)\n",
    "\n",
    "    ps_pd = ps.toPandas()\n",
    "\n",
    "    # Create two dataframes for treatment and control groups\n",
    "    df_treatment = ps_pd[ps_pd['City Size'] == 1]\n",
    "    df_control = ps_pd[ps_pd['City Size'] == 0]\n",
    "\n",
    "    # Fit nearest neighbors model to control group\n",
    "    nbrs = NearestNeighbors(n_neighbors=1).fit(df_control[['propensity_score']])\n",
    "\n",
    "    # Find nearest neighbors in control group for each treatment case\n",
    "    distances, indices = nbrs.kneighbors(df_treatment[['propensity_score']])\n",
    "\n",
    "    # Create dataframe of distances and indices\n",
    "    matches = pd.DataFrame({'distance': distances.flatten(), 'control_index': indices.flatten(),\n",
    "                            'treatment_index': df_treatment.index})\n",
    "\n",
    "    # Merge data from treatment and control cases into the matches dataframe\n",
    "    matched_pairs = matches.merge(df_treatment, left_on='treatment_index', right_index=True) \\\n",
    "        .merge(df_control, left_on='control_index', right_index=True, suffixes=('_treatment', '_control'))\n",
    "\n",
    "    matched_pairs['treatment_effect'] = matched_pairs['Duration_treatment'] - matched_pairs['Duration_control']\n",
    "    average_treatment_effect = matched_pairs['treatment_effect'].mean()\n",
    "    print(\"ATE =\", round(average_treatment_effect, 4))"
   ]
  },
  {
   "attachments": {},
   "cell_type": "markdown",
   "metadata": {},
   "source": [
    "#### Summary"
   ]
  },
  {
   "attachments": {},
   "cell_type": "markdown",
   "metadata": {},
   "source": [
    "The average treatment effect of population size on accident duration (measured in hours) is 0.41 hour. "
   ]
  },
  {
   "attachments": {},
   "cell_type": "markdown",
   "metadata": {},
   "source": [
    "### Distance"
   ]
  },
  {
   "attachments": {},
   "cell_type": "markdown",
   "metadata": {},
   "source": [
    "#### Address imbalance, calculate PS, model eval, matching, calculate ATE"
   ]
  },
  {
   "cell_type": "code",
   "execution_count": 6,
   "metadata": {},
   "outputs": [],
   "source": [
    "cutoff = [pop_median, pop_mean, pop_65, pop_75, pop_85, pop_95]\n",
    "covariates = ['Side', 'Wind_Chill(F)', 'Pressure(in)', 'Wind_Speed(mph)', 'Amenity', 'Bump', 'Crossing', \n",
    "              'Give_Way', 'Junction', 'No_Exit', 'Railway', 'Roundabout', 'Station', 'Stop', 'Traffic_Calming', \n",
    "              'Traffic_Signal', 'Turning_Loop', 'Precipitation(in)', 'Start_Weekday_vec', 'Start_TOD_Category_vec']\n",
    "selected_columns = [\"Distance(mi)\", \"City Size\"] + covariates"
   ]
  },
  {
   "cell_type": "code",
   "execution_count": 7,
   "metadata": {},
   "outputs": [
    {
     "name": "stdout",
     "output_type": "stream",
     "text": [
      "\n",
      "\n",
      "Cut-off = 105087.0\n",
      "Treatment & Control Group Balance:\n"
     ]
    },
    {
     "name": "stderr",
     "output_type": "stream",
     "text": [
      "                                                                                \r"
     ]
    },
    {
     "name": "stdout",
     "output_type": "stream",
     "text": [
      "+---------+------+\n",
      "|City Size| count|\n",
      "+---------+------+\n",
      "|        1|872815|\n",
      "|        0|872721|\n",
      "+---------+------+\n",
      "\n",
      "None\n"
     ]
    },
    {
     "name": "stderr",
     "output_type": "stream",
     "text": [
      "23/06/08 16:13:16 WARN InstanceBuilder: Failed to load implementation from:dev.ludovic.netlib.blas.JNIBLAS\n",
      "23/06/08 16:13:16 WARN InstanceBuilder: Failed to load implementation from:dev.ludovic.netlib.blas.VectorBLAS\n",
      "                                                                                \r"
     ]
    },
    {
     "name": "stdout",
     "output_type": "stream",
     "text": [
      "AUC = 0.632\n"
     ]
    },
    {
     "name": "stderr",
     "output_type": "stream",
     "text": [
      "                                                                                \r"
     ]
    },
    {
     "name": "stdout",
     "output_type": "stream",
     "text": [
      "ATE = -0.1852\n",
      "\n",
      "\n",
      "Cut-off = 1176674.0367743776\n",
      "Treatment & Control Group Balance:\n"
     ]
    },
    {
     "name": "stderr",
     "output_type": "stream",
     "text": [
      "                                                                                \r"
     ]
    },
    {
     "name": "stdout",
     "output_type": "stream",
     "text": [
      "+---------+-------+\n",
      "|City Size|  count|\n",
      "+---------+-------+\n",
      "|        1| 393126|\n",
      "|        0|1352410|\n",
      "+---------+-------+\n",
      "\n",
      "None\n"
     ]
    },
    {
     "name": "stderr",
     "output_type": "stream",
     "text": [
      "                                                                                \r"
     ]
    },
    {
     "name": "stdout",
     "output_type": "stream",
     "text": [
      "AUC = 0.636\n"
     ]
    },
    {
     "name": "stderr",
     "output_type": "stream",
     "text": [
      "                                                                                \r"
     ]
    },
    {
     "name": "stdout",
     "output_type": "stream",
     "text": [
      "ATE = -0.2034\n",
      "\n",
      "\n",
      "Cut-off = 399929.0\n",
      "Treatment & Control Group Balance:\n"
     ]
    },
    {
     "name": "stderr",
     "output_type": "stream",
     "text": [
      "                                                                                \r"
     ]
    },
    {
     "name": "stdout",
     "output_type": "stream",
     "text": [
      "+---------+-------+\n",
      "|City Size|  count|\n",
      "+---------+-------+\n",
      "|        1| 611034|\n",
      "|        0|1134502|\n",
      "+---------+-------+\n",
      "\n",
      "None\n"
     ]
    },
    {
     "name": "stderr",
     "output_type": "stream",
     "text": [
      "                                                                                \r"
     ]
    },
    {
     "name": "stdout",
     "output_type": "stream",
     "text": [
      "AUC = 0.63\n"
     ]
    },
    {
     "name": "stderr",
     "output_type": "stream",
     "text": [
      "                                                                                \r"
     ]
    },
    {
     "name": "stdout",
     "output_type": "stream",
     "text": [
      "ATE = -0.2375\n",
      "\n",
      "\n",
      "Cut-off = 1062018.0\n",
      "Treatment & Control Group Balance:\n"
     ]
    },
    {
     "name": "stderr",
     "output_type": "stream",
     "text": [
      "                                                                                \r"
     ]
    },
    {
     "name": "stdout",
     "output_type": "stream",
     "text": [
      "+---------+-------+\n",
      "|City Size|  count|\n",
      "+---------+-------+\n",
      "|        1| 437042|\n",
      "|        0|1308494|\n",
      "+---------+-------+\n",
      "\n",
      "None\n"
     ]
    },
    {
     "name": "stderr",
     "output_type": "stream",
     "text": [
      "                                                                                \r"
     ]
    },
    {
     "name": "stdout",
     "output_type": "stream",
     "text": [
      "AUC = 0.628\n"
     ]
    },
    {
     "name": "stderr",
     "output_type": "stream",
     "text": [
      "                                                                                \r"
     ]
    },
    {
     "name": "stdout",
     "output_type": "stream",
     "text": [
      "ATE = -0.224\n",
      "\n",
      "\n",
      "Cut-off = 1927699.0\n",
      "Treatment & Control Group Balance:\n"
     ]
    },
    {
     "name": "stderr",
     "output_type": "stream",
     "text": [
      "                                                                                \r"
     ]
    },
    {
     "name": "stdout",
     "output_type": "stream",
     "text": [
      "+---------+-------+\n",
      "|City Size|  count|\n",
      "+---------+-------+\n",
      "|        1| 286287|\n",
      "|        0|1459249|\n",
      "+---------+-------+\n",
      "\n",
      "None\n"
     ]
    },
    {
     "name": "stderr",
     "output_type": "stream",
     "text": [
      "                                                                                \r"
     ]
    },
    {
     "name": "stdout",
     "output_type": "stream",
     "text": [
      "AUC = 0.649\n"
     ]
    },
    {
     "name": "stderr",
     "output_type": "stream",
     "text": [
      "                                                                                \r"
     ]
    },
    {
     "name": "stdout",
     "output_type": "stream",
     "text": [
      "ATE = -0.1789\n",
      "\n",
      "\n",
      "Cut-off = 5668165.0\n",
      "Treatment & Control Group Balance:\n"
     ]
    },
    {
     "name": "stderr",
     "output_type": "stream",
     "text": [
      "                                                                                \r"
     ]
    },
    {
     "name": "stdout",
     "output_type": "stream",
     "text": [
      "+---------+-------+\n",
      "|City Size|  count|\n",
      "+---------+-------+\n",
      "|        1| 110293|\n",
      "|        0|1635243|\n",
      "+---------+-------+\n",
      "\n",
      "None\n"
     ]
    },
    {
     "name": "stderr",
     "output_type": "stream",
     "text": [
      "                                                                                \r"
     ]
    },
    {
     "name": "stdout",
     "output_type": "stream",
     "text": [
      "AUC = 0.667\n"
     ]
    },
    {
     "name": "stderr",
     "output_type": "stream",
     "text": [
      "                                                                                \r"
     ]
    },
    {
     "name": "stdout",
     "output_type": "stream",
     "text": [
      "ATE = -0.1284\n"
     ]
    }
   ],
   "source": [
    "from sklearn.neighbors import NearestNeighbors\n",
    "\n",
    "for i in cutoff:\n",
    "    print(\"\\n\")\n",
    "    print(\"Cut-off =\", i)\n",
    "    # Create treatment variables\n",
    "    df = df.withColumn('City Size', when(df['Population'] >= i, 1).otherwise(0))\n",
    "\n",
    "    # Check balance\n",
    "    print(\"Treatment & Control Group Balance:\")\n",
    "    print(df.groupBy(\"City Size\").count().show())\n",
    "\n",
    "    df_ps = df.select(selected_columns)\n",
    "\n",
    "    # Define the covariates\n",
    "    assembler = VectorAssembler(inputCols=covariates, outputCol=\"features\")\n",
    "    train_data, test_data = df_ps.randomSplit([0.8, 0.2], seed=1)\n",
    "    lr = LogisticRegression(featuresCol='features', labelCol='City Size', maxIter=10)\n",
    "    pipeline = Pipeline(stages=[assembler, lr])\n",
    "    model = pipeline.fit(train_data)\n",
    "\n",
    "    # Predict and add the propensity scores to the DataFrame\n",
    "    ps = model.transform(test_data).select('Distance(mi)', 'City Size', 'features', 'probability')\n",
    "\n",
    "    # Extract the probability of treatment (i.e., the propensity score)\n",
    "    extract_prob = udf(lambda x: float(x[1]), FloatType())\n",
    "    ps = ps.withColumn(\"propensity_score\", extract_prob('probability'))\n",
    "\n",
    "    # Evaluate model performance on the test data\n",
    "    auc = BinaryClassificationEvaluator(labelCol='City Size', rawPredictionCol='probability', metricName='areaUnderROC')\n",
    "    AUC = round(auc.evaluate(ps), 3)\n",
    "    print('AUC =', AUC)\n",
    "\n",
    "    ps_pd = ps.toPandas()\n",
    "\n",
    "    # Create two dataframes for treatment and control groups\n",
    "    df_treatment = ps_pd[ps_pd['City Size'] == 1]\n",
    "    df_control = ps_pd[ps_pd['City Size'] == 0]\n",
    "\n",
    "    # Fit nearest neighbors model to control group\n",
    "    nbrs = NearestNeighbors(n_neighbors=1).fit(df_control[['propensity_score']])\n",
    "\n",
    "    # Find nearest neighbors in control group for each treatment case\n",
    "    distances, indices = nbrs.kneighbors(df_treatment[['propensity_score']])\n",
    "\n",
    "    # Create dataframe of distances and indices\n",
    "    matches = pd.DataFrame({'distance': distances.flatten(), 'control_index': indices.flatten(),\n",
    "                            'treatment_index': df_treatment.index})\n",
    "\n",
    "    # Merge data from treatment and control cases into the matches dataframe\n",
    "    matched_pairs = matches.merge(df_treatment, left_on='treatment_index', right_index=True) \\\n",
    "        .merge(df_control, left_on='control_index', right_index=True, suffixes=('_treatment', '_control'))\n",
    "\n",
    "    matched_pairs['treatment_effect'] = matched_pairs['Distance(mi)_treatment'] - matched_pairs['Distance(mi)_control']\n",
    "    average_treatment_effect = matched_pairs['treatment_effect'].mean()\n",
    "    print(\"ATE =\", round(average_treatment_effect, 4))"
   ]
  },
  {
   "attachments": {},
   "cell_type": "markdown",
   "metadata": {},
   "source": [
    "#### Summary"
   ]
  },
  {
   "attachments": {},
   "cell_type": "markdown",
   "metadata": {},
   "source": [
    "The average treatment effect of population size on accident distance impacted is -0.24 miles.\n",
    "\n",
    "More pop, more emergency response personnel.\n",
    "Or more likely to occure in city streets, where distances are shorter and have more alternative routes to disperse traffic."
   ]
  },
  {
   "attachments": {},
   "cell_type": "markdown",
   "metadata": {},
   "source": []
  }
 ],
 "metadata": {
  "kernelspec": {
   "display_name": "Python 3",
   "language": "python",
   "name": "python3"
  },
  "language_info": {
   "codemirror_mode": {
    "name": "ipython",
    "version": 3
   },
   "file_extension": ".py",
   "mimetype": "text/x-python",
   "name": "python",
   "nbconvert_exporter": "python",
   "pygments_lexer": "ipython3",
   "version": "3.10.7"
  },
  "orig_nbformat": 4
 },
 "nbformat": 4,
 "nbformat_minor": 2
}
