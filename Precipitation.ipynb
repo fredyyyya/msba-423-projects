{
 "cells": [
  {
   "attachments": {},
   "cell_type": "markdown",
   "metadata": {},
   "source": [
    "## Precipitation"
   ]
  },
  {
   "attachments": {},
   "cell_type": "markdown",
   "metadata": {},
   "source": [
    "### Set-up"
   ]
  },
  {
   "cell_type": "code",
   "execution_count": 7,
   "metadata": {},
   "outputs": [],
   "source": [
    "# Load libraries\n",
    "from pyspark.sql import SparkSession\n",
    "from pyspark.sql import functions as F\n",
    "from pyspark.sql.functions import col, when, udf, stddev\n",
    "from pyspark.sql.types import FloatType\n",
    "from pyspark.ml import Pipeline\n",
    "from pyspark.ml.classification import LogisticRegression\n",
    "from pyspark.ml.feature import StringIndexer, OneHotEncoder, VectorAssembler\n",
    "from pyspark.ml.evaluation import BinaryClassificationEvaluator\n",
    "\n",
    "import pandas as pd\n",
    "import matplotlib.pyplot as plt"
   ]
  },
  {
   "cell_type": "code",
   "execution_count": 2,
   "metadata": {},
   "outputs": [
    {
     "name": "stderr",
     "output_type": "stream",
     "text": [
      "23/06/08 10:52:04 WARN Utils: Your hostname, Shaolongs-MacBook-Pro.local resolves to a loopback address: 127.0.0.1; using 192.168.4.167 instead (on interface en0)\n",
      "23/06/08 10:52:04 WARN Utils: Set SPARK_LOCAL_IP if you need to bind to another address\n",
      "Setting default log level to \"WARN\".\n",
      "To adjust logging level use sc.setLogLevel(newLevel). For SparkR, use setLogLevel(newLevel).\n",
      "23/06/08 10:52:04 WARN NativeCodeLoader: Unable to load native-hadoop library for your platform... using builtin-java classes where applicable\n"
     ]
    }
   ],
   "source": [
    "# Start session\n",
    "spark = SparkSession\\\n",
    "        .builder\\\n",
    "        .config(\"spark.driver.memory\", \"4g\")\\\n",
    "        .config(\"spark.executor.memory\", \"4g\")\\\n",
    "        .getOrCreate()"
   ]
  },
  {
   "cell_type": "code",
   "execution_count": 3,
   "metadata": {},
   "outputs": [],
   "source": [
    "# Read data\n",
    "path = \"/Users/shaolongxue/Documents/MSBA/3_Spring_Quarter/BAX423_Big_Data_Analytics/Final Project/Data/US_Traffic_v02.csv\"\n",
    "data = spark.read.format('csv').option('header', 'true').load(path)"
   ]
  },
  {
   "cell_type": "code",
   "execution_count": 48,
   "metadata": {},
   "outputs": [
    {
     "name": "stderr",
     "output_type": "stream",
     "text": [
      "                                                                                \r"
     ]
    }
   ],
   "source": [
    "# Select relevant features\n",
    "cols_to_remove = [\"Start_Lat\", \"Start_Lng\", \"End_Lat\", \"End_Lng\", \"Description\", \n",
    "                  \"Number\", \"Street\", \"Country\", \"Timezone\", \"Airport_Code\", \"Zipcode\", \n",
    "                  \"Weather_Timestamp\", \"Sunrise_Sunset\", \"Civil_Twilight\", \"Nautical_Twilight\", \n",
    "                  \"Astronomical_Twilight\", \"Weather_Condition\", \"Wind_Direction\"]\n",
    "\n",
    "df = data.select([col for col in data.columns if col not in cols_to_remove])\n",
    "\n",
    "df = df.na.drop()\n",
    "\n",
    "# Cast numeric columns to appropriate types\n",
    "double_columns = [\"Distance(mi)\", \"Temperature(F)\", \"Wind_Chill(F)\", \n",
    "                   \"Humidity(%)\", \"Pressure(in)\", \"Visibility(mi)\", \n",
    "                   \"Wind_Speed(mph)\", \"Precipitation(in)\", \"Duration\"]\n",
    "\n",
    "integer_columns = [\"Population\", \"Start_Year\", \"Start_Month\"]\n",
    "\n",
    "for column in double_columns:\n",
    "    df = df.withColumn(column, col(column).cast(\"double\"))\n",
    "\n",
    "for column in integer_columns:\n",
    "    df = df.withColumn(column, col(column).cast(\"integer\"))\n",
    "\n",
    "# Remove one outlier row wither Side is \"N\"\n",
    "df = df.where(df.Side != 'N')\n",
    "# Remove outliers where duration is larger than 7 days\n",
    "df = df.where(df.Duration <= 168)\n",
    "\n",
    "# Encode binary categorical columns\n",
    "binary_columns = ['Amenity', 'Bump', 'Crossing', 'Give_Way', 'Junction', 'No_Exit', 'Railway', 'Roundabout', 'Station', 'Stop', 'Traffic_Calming', 'Traffic_Signal', 'Turning_Loop']\n",
    "\n",
    "for column in binary_columns:\n",
    "    df = df.withColumn(column, when(col(column) == \"true\", 1).otherwise(0))\n",
    "\n",
    "df = df.withColumn(\"Side\", when(col(\"Side\") == \"L\", 1).otherwise(0))\n",
    "\n",
    "# Convert values in Start_TOD_Category column [Necessary for SMOTE]\n",
    "df = df.withColumn(\"Start_TOD_Category\",\n",
    "                    when(df[\"Start_TOD_Category\"] == \"Midnight\", \"1\")\n",
    "                   .when(df[\"Start_TOD_Category\"] == \"Early Morning\", \"2\")\n",
    "                   .when(df[\"Start_TOD_Category\"] == \"Late Morning\", \"3\")\n",
    "                   .when(df[\"Start_TOD_Category\"] == \"Early Afternoon\", \"4\")\n",
    "                   .when(df[\"Start_TOD_Category\"] == \"Late Afternoon\", \"5\")\n",
    "                   .when(df[\"Start_TOD_Category\"] == \"Evening\", \"6\"))\n",
    "\n",
    "# First convert the categories from 'string' to 'index'\n",
    "indexer = StringIndexer(inputCol=\"Start_TOD_Category\", outputCol=\"Start_TOD_Category_index\")\n",
    "df = indexer.fit(df).transform(df)\n",
    "\n",
    "indexer = StringIndexer(inputCol=\"Start_Weekday\", outputCol=\"Start_Weekday_index\")\n",
    "df = indexer.fit(df).transform(df)\n",
    "\n",
    "# Then one-hot encode these indices\n",
    "encoder = OneHotEncoder(inputCols=[\"Start_TOD_Category_index\", \"Start_Weekday_index\"],\n",
    "                        outputCols=[\"Start_TOD_Category_vec\", \"Start_Weekday_vec\"])\n",
    "model = encoder.fit(df)\n",
    "df = model.transform(df)"
   ]
  },
  {
   "attachments": {},
   "cell_type": "markdown",
   "metadata": {},
   "source": [
    "### EDA"
   ]
  },
  {
   "cell_type": "code",
   "execution_count": 49,
   "metadata": {},
   "outputs": [
    {
     "name": "stderr",
     "output_type": "stream",
     "text": [
      "                                                                                \r"
     ]
    },
    {
     "data": {
      "image/png": "[encoded data removed]",
      "text/plain": [
       "<Figure size 1000x600 with 1 Axes>"
      ]
     },
     "metadata": {},
     "output_type": "display_data"
    }
   ],
   "source": [
    "distance = df.select(\"Distance(mi)\").dropna().rdd.flatMap(lambda x: x).collect()\n",
    "\n",
    "# Now plot the data using matplotlib\n",
    "plt.figure(figsize=(10,6))\n",
    "plt.hist(distance, bins=50, color='blue', alpha=0.7)\n",
    "plt.yscale('log', nonpositive='clip') # This line sets the y-axis to a logarithmic scale\n",
    "plt.title('Distribution of Distance(mi)')\n",
    "plt.xlabel('Distance(mi)')\n",
    "plt.ylabel('Frequency')\n",
    "plt.grid(True)\n",
    "plt.show()"
   ]
  },
  {
   "cell_type": "code",
   "execution_count": 50,
   "metadata": {},
   "outputs": [
    {
     "name": "stderr",
     "output_type": "stream",
     "text": [
      "                                                                                \r"
     ]
    },
    {
     "data": {
      "image/png": "[encoded data removed]",
      "text/plain": [
       "<Figure size 1000x600 with 1 Axes>"
      ]
     },
     "metadata": {},
     "output_type": "display_data"
    }
   ],
   "source": [
    "seve = df.select(\"Severity\").dropna().rdd.flatMap(lambda x: x).collect()\n",
    "\n",
    "# Now plot the data using matplotlib\n",
    "plt.figure(figsize=(10,6))\n",
    "plt.hist(seve, bins=50, color='blue', alpha=0.7)\n",
    "plt.yscale('log', nonpositive='clip') # This line sets the y-axis to a logarithmic scale\n",
    "plt.title('Distribution of Severity')\n",
    "plt.xlabel('Severity')\n",
    "plt.ylabel('Frequency')\n",
    "plt.grid(True)\n",
    "plt.show()"
   ]
  },
  {
   "cell_type": "code",
   "execution_count": 51,
   "metadata": {},
   "outputs": [
    {
     "name": "stderr",
     "output_type": "stream",
     "text": [
      "                                                                                \r"
     ]
    },
    {
     "data": {
      "image/png": "[encoded data removed]",
      "text/plain": [
       "<Figure size 1000x600 with 1 Axes>"
      ]
     },
     "metadata": {},
     "output_type": "display_data"
    }
   ],
   "source": [
    "duration = df.select(\"Duration\").dropna().rdd.flatMap(lambda x: x).collect()\n",
    "\n",
    "# Now plot the data using matplotlib\n",
    "plt.figure(figsize=(10,6))\n",
    "plt.hist(duration, bins=50, color='blue', alpha=0.7)\n",
    "plt.yscale('log', nonpositive='clip') # This line sets the y-axis to a logarithmic scale\n",
    "plt.title('Distribution of Duration')\n",
    "plt.xlabel('Duration(hr)')\n",
    "plt.ylabel('Frequency')\n",
    "plt.grid(True)\n",
    "plt.show()"
   ]
  },
  {
   "cell_type": "code",
   "execution_count": 52,
   "metadata": {},
   "outputs": [
    {
     "name": "stderr",
     "output_type": "stream",
     "text": [
      "                                                                                \r"
     ]
    },
    {
     "data": {
      "image/png": "[encoded data removed]",
      "text/plain": [
       "<Figure size 1000x600 with 1 Axes>"
      ]
     },
     "metadata": {},
     "output_type": "display_data"
    }
   ],
   "source": [
    "# First, convert the precipitation data to a list in your local environment\n",
    "precipitation_data = df.select('Precipitation(in)').dropna().rdd.flatMap(lambda x: x).collect()\n",
    "\n",
    "# Now plot the data using matplotlib\n",
    "plt.figure(figsize=(10,6))\n",
    "plt.hist(precipitation_data, bins=50, color='blue', alpha=0.7)\n",
    "plt.yscale('log', nonpositive='clip') # This line sets the y-axis to a logarithmic scale\n",
    "plt.title('Distribution of Precipitation(in)')\n",
    "plt.xlabel('Precipitation(in)')\n",
    "plt.ylabel('Frequency')\n",
    "plt.grid(True)\n",
    "plt.show()"
   ]
  },
  {
   "cell_type": "code",
   "execution_count": 53,
   "metadata": {},
   "outputs": [
    {
     "name": "stderr",
     "output_type": "stream",
     "text": [
      "[Stage 263:==========>                                             (2 + 9) / 11]\r"
     ]
    },
    {
     "name": "stdout",
     "output_type": "stream",
     "text": [
      "Precipitation median =  0.0\n",
      "Precipitation mean =  0.005\n",
      "Precipitation standard dev =  0.061\n"
     ]
    },
    {
     "name": "stderr",
     "output_type": "stream",
     "text": [
      "                                                                                \r"
     ]
    }
   ],
   "source": [
    "# Calculate summary stats\n",
    "rain_median = df.stat.approxQuantile('Precipitation(in)', [0.5], 0)[0]\n",
    "rain_mean = df.agg(F.avg('Precipitation(in)')).first()[0]\n",
    "rain_sd = df.agg(stddev(\"Precipitation(in)\")).collect()[0][0]\n",
    "print(\"Precipitation median = \", rain_median)\n",
    "print(\"Precipitation mean = \", round(rain_mean, 3))\n",
    "print(\"Precipitation standard dev = \", round(rain_sd, 3))"
   ]
  },
  {
   "cell_type": "code",
   "execution_count": 54,
   "metadata": {},
   "outputs": [
    {
     "name": "stdout",
     "output_type": "stream",
     "text": [
      "Treatment & Control Group Balance:\n"
     ]
    },
    {
     "name": "stderr",
     "output_type": "stream",
     "text": [
      "[Stage 266:==========>                                             (2 + 9) / 11]\r"
     ]
    },
    {
     "name": "stdout",
     "output_type": "stream",
     "text": [
      "+------+-------+\n",
      "|Rained|  count|\n",
      "+------+-------+\n",
      "|     1|  26499|\n",
      "|     0|1719037|\n",
      "+------+-------+\n",
      "\n",
      "None\n"
     ]
    },
    {
     "name": "stderr",
     "output_type": "stream",
     "text": [
      "                                                                                \r"
     ]
    }
   ],
   "source": [
    "# Create treatment variables\n",
    "df = df.withColumn('Rained', when(df['Precipitation(in)'] >= 0.1, 1).otherwise(0))\n",
    "\n",
    "# Check balance\n",
    "print(\"Treatment & Control Group Balance:\")\n",
    "print(df.groupBy(\"Rained\").count().show())"
   ]
  },
  {
   "cell_type": "code",
   "execution_count": 55,
   "metadata": {},
   "outputs": [
    {
     "name": "stdout",
     "output_type": "stream",
     "text": [
      "+-------+--------+--------------------+--------------------+--------------------+----+------------+--------------+-----+--------------+-------------+-----------+------------+--------------+---------------+-----------------+-------+----+--------+--------+--------+-------+-------+----------+-------+----+---------------+--------------+------------+----------+----------+-----------+-------------+------------------+--------+------------------------+-------------------+----------------------+-----------------+------+\n",
      "|     ID|Severity|          Start_Time|            End_Time|        Distance(mi)|Side|        City|        County|State|Temperature(F)|Wind_Chill(F)|Humidity(%)|Pressure(in)|Visibility(mi)|Wind_Speed(mph)|Precipitation(in)|Amenity|Bump|Crossing|Give_Way|Junction|No_Exit|Railway|Roundabout|Station|Stop|Traffic_Calming|Traffic_Signal|Turning_Loop|Population|Start_Year|Start_Month|Start_Weekday|Start_TOD_Category|Duration|Start_TOD_Category_index|Start_Weekday_index|Start_TOD_Category_vec|Start_Weekday_vec|Rained|\n",
      "+-------+--------+--------------------+--------------------+--------------------+----+------------+--------------+-----+--------------+-------------+-----------+------------+--------------+---------------+-----------------+-------+----+--------+--------+--------+-------+-------+----------+-------+----+---------------+--------------+------------+----------+----------+-----------+-------------+------------------+--------+------------------------+-------------------+----------------------+-----------------+------+\n",
      "|1607270|       2|2021-02-04T15:30:...|2021-02-04T17:31:...|               0.168|   0|  Brookhaven|      Delaware|   PA|          43.0|         43.0|       42.0|       29.89|          10.0|            3.0|              0.0|      0|   0|       0|       0|       0|      0|      0|         0|      0|   0|              0|             0|           0|      8243|      2021|          2|            5|                 4|    2.01|                     1.0|                1.0|         (5,[1],[1.0])|    (6,[1],[1.0])|     0|\n",
      "|1607271|       2|2021-02-10T00:44:...|2021-02-10T02:10:...|               0.335|   0|    Moorpark|       Ventura|   CA|          50.0|         50.0|       80.0|       29.95|           9.0|            0.0|              0.0|      0|   0|       0|       0|       0|      0|      0|         0|      0|   0|              0|             0|           0|     36201|      2021|          2|            4|                 1|    1.43|                     5.0|                2.0|             (5,[],[])|    (6,[2],[1.0])|     0|\n",
      "|1607272|       2|2021-02-20T16:30:...|2021-02-21T18:28:...|               0.085|   0|  Shreveport|         Caddo|   LA|          43.0|         38.0|       58.0|       30.08|          10.0|            8.0|              0.0|      0|   0|       0|       0|       0|      0|      0|         0|      0|   0|              0|             0|           0|    286200|      2021|          2|            7|                 5|   25.97|                     0.0|                5.0|         (5,[0],[1.0])|    (6,[5],[1.0])|     0|\n",
      "|1607273|       2|2021-02-06T20:25:...|2021-02-07T23:31:...|               0.109|   1|  Shreveport|         Caddo|   LA|          46.0|         41.0|       83.0|       29.78|          10.0|           10.0|              0.0|      0|   0|       0|       0|       0|      0|      0|         0|      0|   0|              0|             0|           0|    286200|      2021|          2|            7|                 6|   27.11|                     3.0|                5.0|         (5,[3],[1.0])|    (6,[5],[1.0])|     0|\n",
      "|1607274|       2|2021-02-11T00:41:...|2021-02-11T02:19:...|               1.129|   0|Solana Beach|     San Diego|   CA|          50.0|         50.0|       86.0|       29.68|           8.0|            0.0|              0.0|      0|   0|       0|       0|       0|      0|      0|         0|      0|   0|              0|             0|           0|     13025|      2021|          2|            5|                 1|    1.64|                     5.0|                1.0|             (5,[],[])|    (6,[1],[1.0])|     0|\n",
      "|1607276|       2|2021-02-19T08:41:...|2021-02-19T10:39:...|               0.075|   1|  Watsontown|Northumberland|   PA|          25.0|         25.0|       92.0|       29.59|           2.0|            0.0|              0.0|      0|   0|       0|       0|       0|      0|      0|         0|      0|   0|              0|             0|           0|      1956|      2021|          2|            6|                 3|    1.97|                     2.0|                0.0|         (5,[2],[1.0])|    (6,[0],[1.0])|     0|\n",
      "|1607278|       2|2021-01-13T17:29:...|2021-01-13T19:49:...|0.057999999999999996|   0| Chattanooga|      Hamilton|   TN|          45.0|         42.0|       53.0|        29.3|          10.0|            6.0|              0.0|      0|   0|       0|       0|       0|      0|      0|         0|      0|   0|              0|             0|           0|    403233|      2021|          1|            4|                 5|    2.34|                     0.0|                2.0|         (5,[0],[1.0])|    (6,[2],[1.0])|     0|\n",
      "|1607279|       2|2021-01-11T18:00:...|2021-01-11T19:48:...| 0.39799999999999996|   0|  Pittsburgh|     Allegheny|   PA|          35.0|         29.0|       59.0|       28.89|          10.0|            8.0|              0.0|      0|   0|       0|       0|       0|      0|      0|         0|      0|   0|              0|             0|           0|   1720279|      2021|          1|            2|                 5|    1.81|                     0.0|                4.0|         (5,[0],[1.0])|    (6,[4],[1.0])|     0|\n",
      "|1607280|       2|2021-02-18T06:43:...|2021-02-18T08:20:...|               0.535|   0|      Upland|San Bernardino|   CA|          54.0|         54.0|       17.0|       29.22|          10.0|           25.0|              0.0|      0|   0|       0|       0|       0|      0|      0|         0|      0|   0|              0|             0|           0|     78624|      2021|          2|            5|                 2|    1.63|                     4.0|                1.0|         (5,[4],[1.0])|    (6,[1],[1.0])|     0|\n",
      "|1607281|       2|2021-01-12T02:24:...|2021-01-12T03:22:...|               0.525|   0|     Detroit|         Wayne|   MI|          26.0|         18.0|       85.0|       29.36|          10.0|            7.0|              0.0|      0|   0|       0|       0|       1|      0|      0|         0|      0|   0|              0|             0|           0|   3522856|      2021|          1|            3|                 1|    0.96|                     5.0|                3.0|             (5,[],[])|    (6,[3],[1.0])|     0|\n",
      "+-------+--------+--------------------+--------------------+--------------------+----+------------+--------------+-----+--------------+-------------+-----------+------------+--------------+---------------+-----------------+-------+----+--------+--------+--------+-------+-------+----------+-------+----+---------------+--------------+------------+----------+----------+-----------+-------------+------------------+--------+------------------------+-------------------+----------------------+-----------------+------+\n",
      "only showing top 10 rows\n",
      "\n"
     ]
    }
   ],
   "source": [
    "df.show(10)"
   ]
  },
  {
   "attachments": {},
   "cell_type": "markdown",
   "metadata": {},
   "source": [
    "### Definitions\n",
    "\n"
   ]
  },
  {
   "attachments": {},
   "cell_type": "markdown",
   "metadata": {},
   "source": [
    "1. Target column: Severity / Duration / Distance(mi)\n",
    "\n",
    "2. Treatment & Control group:\n",
    "    * treatment: precipitation >= 0.1 inch (including light, moderate, and heavy rain)\n",
    "    * control: precipitation < 0.1 inch\n",
    "\n",
    "    * How I selected the threshold? \n",
    "        * Source: https://www.weathershack.com/static/ed-rain-measurement.html#:~:text=Rainfall%20rate%20is%20generally%20described,inches%20of%20rain%20per%20hour\n",
    "    \n",
    "3. Covariates\n",
    "    * Side, Wind_Chill(F), Pressure(in), Wind_Speed(mph), Amenity, Bump, Crossing, Give_Way, Junction, No_Exit, Railway, Roundabout, Station, Stop, Traffic_Calming, Traffic_Signal, Turning_Loop, Population, Start_Weekday, Start_TOD_Category\n",
    "    * Rationale: I don't want to choose variables that highly correlate with precipication. For example, visibility and humidity is almost a direct outcome of rain. I want to choose covariates that has almost nothing to do with precipitation. \n",
    "    * excluded: visibility, humidity, temperature"
   ]
  },
  {
   "cell_type": "code",
   "execution_count": 90,
   "metadata": {},
   "outputs": [
    {
     "name": "stdout",
     "output_type": "stream",
     "text": [
      "Adjusted Treatment & Control Group Balance:\n"
     ]
    },
    {
     "name": "stderr",
     "output_type": "stream",
     "text": [
      "[Stage 478:=============================>                        (12 + 10) / 22]\r"
     ]
    },
    {
     "name": "stdout",
     "output_type": "stream",
     "text": [
      "+------+------+\n",
      "|Rained| count|\n",
      "+------+------+\n",
      "|     1| 26499|\n",
      "|     0|343373|\n",
      "+------+------+\n",
      "\n",
      "None\n"
     ]
    },
    {
     "name": "stderr",
     "output_type": "stream",
     "text": [
      "                                                                                \r"
     ]
    }
   ],
   "source": [
    "# Undersample majority class (Rained = 0)\n",
    "df_major = df.filter(F.col(\"Rained\") == 0).sample(withReplacement=False, fraction=0.2, seed=1) \n",
    "df_minor = df.filter(F.col(\"Rained\") == 1)\n",
    "df_balanced = df_minor.union(df_major)\n",
    "print(\"Adjusted Treatment & Control Group Balance:\")\n",
    "print(df_balanced.groupBy(\"Rained\").count().show())"
   ]
  },
  {
   "attachments": {},
   "cell_type": "markdown",
   "metadata": {},
   "source": [
    "### Severity"
   ]
  },
  {
   "attachments": {},
   "cell_type": "markdown",
   "metadata": {},
   "source": [
    "#### Address imbalance, calculate PS, model eval, matching, calculate ATE"
   ]
  },
  {
   "cell_type": "code",
   "execution_count": 105,
   "metadata": {},
   "outputs": [],
   "source": [
    "fraction = [0.05, 0.1, 0.2, 0.3, 0.4, 0.5, 0.6, 0.7, 0.8]\n",
    "covariates = ['Side', 'Wind_Chill(F)', 'Pressure(in)', 'Wind_Speed(mph)', 'Amenity', 'Bump', 'Crossing', \n",
    "              'Give_Way', 'Junction', 'No_Exit', 'Railway', 'Roundabout', 'Station', 'Stop', 'Traffic_Calming', \n",
    "              'Traffic_Signal', 'Turning_Loop', 'Population', 'Start_Weekday_vec', 'Start_TOD_Category_vec']\n",
    "selected_columns = [\"Severity\", \"Rained\"] + covariates"
   ]
  },
  {
   "cell_type": "code",
   "execution_count": 107,
   "metadata": {},
   "outputs": [
    {
     "name": "stdout",
     "output_type": "stream",
     "text": [
      "\n",
      "\n",
      "Fraction =  0.05\n"
     ]
    },
    {
     "name": "stderr",
     "output_type": "stream",
     "text": [
      "                                                                                \r"
     ]
    },
    {
     "name": "stdout",
     "output_type": "stream",
     "text": [
      "AUC = 0.641\n"
     ]
    },
    {
     "name": "stderr",
     "output_type": "stream",
     "text": [
      "                                                                                \r"
     ]
    },
    {
     "name": "stdout",
     "output_type": "stream",
     "text": [
      "ATE = 0.02\n",
      "\n",
      "\n",
      "Fraction =  0.1\n"
     ]
    },
    {
     "name": "stderr",
     "output_type": "stream",
     "text": [
      "                                                                                \r"
     ]
    },
    {
     "name": "stdout",
     "output_type": "stream",
     "text": [
      "AUC = 0.639\n"
     ]
    },
    {
     "name": "stderr",
     "output_type": "stream",
     "text": [
      "                                                                                \r"
     ]
    },
    {
     "name": "stdout",
     "output_type": "stream",
     "text": [
      "ATE = 0.035\n",
      "\n",
      "\n",
      "Fraction =  0.2\n"
     ]
    },
    {
     "name": "stderr",
     "output_type": "stream",
     "text": [
      "                                                                                \r"
     ]
    },
    {
     "name": "stdout",
     "output_type": "stream",
     "text": [
      "AUC = 0.641\n"
     ]
    },
    {
     "name": "stderr",
     "output_type": "stream",
     "text": [
      "                                                                                \r"
     ]
    },
    {
     "name": "stdout",
     "output_type": "stream",
     "text": [
      "ATE = 0.0148\n",
      "\n",
      "\n",
      "Fraction =  0.3\n"
     ]
    },
    {
     "name": "stderr",
     "output_type": "stream",
     "text": [
      "                                                                                \r"
     ]
    },
    {
     "name": "stdout",
     "output_type": "stream",
     "text": [
      "AUC = 0.64\n"
     ]
    },
    {
     "name": "stderr",
     "output_type": "stream",
     "text": [
      "                                                                                \r"
     ]
    },
    {
     "name": "stdout",
     "output_type": "stream",
     "text": [
      "ATE = 0.0104\n",
      "\n",
      "\n",
      "Fraction =  0.4\n"
     ]
    },
    {
     "name": "stderr",
     "output_type": "stream",
     "text": [
      "                                                                                \r"
     ]
    },
    {
     "name": "stdout",
     "output_type": "stream",
     "text": [
      "AUC = 0.641\n"
     ]
    },
    {
     "name": "stderr",
     "output_type": "stream",
     "text": [
      "                                                                                \r"
     ]
    },
    {
     "name": "stdout",
     "output_type": "stream",
     "text": [
      "ATE = 0.0157\n",
      "\n",
      "\n",
      "Fraction =  0.5\n"
     ]
    },
    {
     "name": "stderr",
     "output_type": "stream",
     "text": [
      "                                                                                \r"
     ]
    },
    {
     "name": "stdout",
     "output_type": "stream",
     "text": [
      "AUC = 0.642\n"
     ]
    },
    {
     "name": "stderr",
     "output_type": "stream",
     "text": [
      "                                                                                \r"
     ]
    },
    {
     "name": "stdout",
     "output_type": "stream",
     "text": [
      "ATE = 0.0104\n",
      "\n",
      "\n",
      "Fraction =  0.6\n"
     ]
    },
    {
     "name": "stderr",
     "output_type": "stream",
     "text": [
      "                                                                                \r"
     ]
    },
    {
     "name": "stdout",
     "output_type": "stream",
     "text": [
      "AUC = 0.642\n"
     ]
    },
    {
     "name": "stderr",
     "output_type": "stream",
     "text": [
      "                                                                                \r"
     ]
    },
    {
     "name": "stdout",
     "output_type": "stream",
     "text": [
      "ATE = 0.0151\n",
      "\n",
      "\n",
      "Fraction =  0.7\n"
     ]
    },
    {
     "name": "stderr",
     "output_type": "stream",
     "text": [
      "                                                                                \r"
     ]
    },
    {
     "name": "stdout",
     "output_type": "stream",
     "text": [
      "AUC = 0.642\n"
     ]
    },
    {
     "name": "stderr",
     "output_type": "stream",
     "text": [
      "                                                                                \r"
     ]
    },
    {
     "name": "stdout",
     "output_type": "stream",
     "text": [
      "ATE = 0.016\n",
      "\n",
      "\n",
      "Fraction =  0.8\n"
     ]
    },
    {
     "name": "stderr",
     "output_type": "stream",
     "text": [
      "                                                                                \r"
     ]
    },
    {
     "name": "stdout",
     "output_type": "stream",
     "text": [
      "AUC = 0.642\n"
     ]
    },
    {
     "name": "stderr",
     "output_type": "stream",
     "text": [
      "                                                                                \r"
     ]
    },
    {
     "name": "stdout",
     "output_type": "stream",
     "text": [
      "ATE = 0.0112\n"
     ]
    }
   ],
   "source": [
    "from sklearn.neighbors import NearestNeighbors\n",
    "\n",
    "for i in fraction:\n",
    "    print(\"\\n\")\n",
    "    print(\"Fraction = \", i)\n",
    "    df_major = df.filter(F.col(\"Rained\") == 0).sample(withReplacement=False, fraction=i, seed=1) \n",
    "    df_minor = df.filter(F.col(\"Rained\") == 1)\n",
    "    df_balanced = df_minor.union(df_major)\n",
    "    df_ps = df_balanced.select(selected_columns)\n",
    "\n",
    "    # Define the covariates\n",
    "    assembler = VectorAssembler(inputCols=covariates, outputCol=\"features\")\n",
    "    train_data, test_data = df_ps.randomSplit([0.8, 0.2], seed=1)\n",
    "    lr = LogisticRegression(featuresCol='features', labelCol='Rained', maxIter=10)\n",
    "    pipeline = Pipeline(stages=[assembler, lr])\n",
    "    model = pipeline.fit(train_data)\n",
    "\n",
    "    # Predict and add the propensity scores to the DataFrame\n",
    "    ps = model.transform(test_data).select('Severity', 'Rained', 'features', 'probability')\n",
    "\n",
    "    # Extract the probability of treatment (i.e., the propensity score)\n",
    "    extract_prob = udf(lambda x: float(x[1]), FloatType())\n",
    "    ps = ps.withColumn(\"propensity_score\", extract_prob('probability'))\n",
    "\n",
    "    # Evaluate model performance on the test data\n",
    "    auc = BinaryClassificationEvaluator(labelCol='Rained', rawPredictionCol='probability', metricName='areaUnderROC')\n",
    "    AUC = round(auc.evaluate(ps), 3)\n",
    "    print('AUC =', AUC)\n",
    "\n",
    "    ps_pd = ps.toPandas()\n",
    "\n",
    "    # Create two dataframes for treatment and control groups\n",
    "    df_treatment = ps_pd[ps_pd['Rained'] == 1]\n",
    "    df_control = ps_pd[ps_pd['Rained'] == 0]\n",
    "\n",
    "    # Fit nearest neighbors model to control group\n",
    "    nbrs = NearestNeighbors(n_neighbors=1).fit(df_control[['propensity_score']])\n",
    "\n",
    "    # Find nearest neighbors in control group for each treatment case\n",
    "    distances, indices = nbrs.kneighbors(df_treatment[['propensity_score']])\n",
    "\n",
    "    # Create dataframe of distances and indices\n",
    "    matches = pd.DataFrame({'distance': distances.flatten(), 'control_index': indices.flatten(),\n",
    "                            'treatment_index': df_treatment.index})\n",
    "\n",
    "    # Merge data from treatment and control cases into the matches dataframe\n",
    "    matched_pairs = matches.merge(df_treatment, left_on='treatment_index', right_index=True) \\\n",
    "        .merge(df_control, left_on='control_index', right_index=True, suffixes=('_treatment', '_control'))\n",
    "    \n",
    "    matched_pairs['Severity_treatment'] = matched_pairs['Severity_treatment'].astype(float)\n",
    "    matched_pairs['Severity_control'] = matched_pairs['Severity_control'].astype(float)\n",
    "\n",
    "    matched_pairs['treatment_effect'] = matched_pairs['Severity_treatment'] - matched_pairs['Severity_control']\n",
    "    average_treatment_effect = matched_pairs['treatment_effect'].mean()\n",
    "    print(\"ATE =\", round(average_treatment_effect, 4))"
   ]
  },
  {
   "attachments": {},
   "cell_type": "markdown",
   "metadata": {},
   "source": [
    "#### Summary"
   ]
  },
  {
   "attachments": {},
   "cell_type": "markdown",
   "metadata": {},
   "source": [
    "The average treatment effect of precipitation on accident severity (measured on a scale of 1 to 4, with 4 being the most severe) is 0.035 unit. "
   ]
  },
  {
   "attachments": {},
   "cell_type": "markdown",
   "metadata": {},
   "source": [
    "### Duration"
   ]
  },
  {
   "attachments": {},
   "cell_type": "markdown",
   "metadata": {},
   "source": [
    "#### Address imbalance, calculate PS, model eval, matching, calculate ATE"
   ]
  },
  {
   "cell_type": "code",
   "execution_count": 108,
   "metadata": {},
   "outputs": [],
   "source": [
    "fraction = [0.05, 0.1, 0.2, 0.3, 0.4, 0.5, 0.6, 0.7, 0.8]\n",
    "covariates = ['Side', 'Wind_Chill(F)', 'Pressure(in)', 'Wind_Speed(mph)', 'Amenity', 'Bump', 'Crossing', \n",
    "              'Give_Way', 'Junction', 'No_Exit', 'Railway', 'Roundabout', 'Station', 'Stop', 'Traffic_Calming', \n",
    "              'Traffic_Signal', 'Turning_Loop', 'Population', 'Start_Weekday_vec', 'Start_TOD_Category_vec']\n",
    "selected_columns = [\"Duration\", \"Rained\"] + covariates"
   ]
  },
  {
   "cell_type": "code",
   "execution_count": 109,
   "metadata": {},
   "outputs": [
    {
     "name": "stdout",
     "output_type": "stream",
     "text": [
      "\n",
      "\n",
      "Fraction =  0.05\n"
     ]
    },
    {
     "name": "stderr",
     "output_type": "stream",
     "text": [
      "                                                                                \r"
     ]
    },
    {
     "name": "stdout",
     "output_type": "stream",
     "text": [
      "AUC = 0.642\n"
     ]
    },
    {
     "name": "stderr",
     "output_type": "stream",
     "text": [
      "                                                                                \r"
     ]
    },
    {
     "name": "stdout",
     "output_type": "stream",
     "text": [
      "ATE = -0.4879\n",
      "\n",
      "\n",
      "Fraction =  0.1\n"
     ]
    },
    {
     "name": "stderr",
     "output_type": "stream",
     "text": [
      "                                                                                \r"
     ]
    },
    {
     "name": "stdout",
     "output_type": "stream",
     "text": [
      "AUC = 0.643\n"
     ]
    },
    {
     "name": "stderr",
     "output_type": "stream",
     "text": [
      "                                                                                \r"
     ]
    },
    {
     "name": "stdout",
     "output_type": "stream",
     "text": [
      "ATE = -0.3666\n",
      "\n",
      "\n",
      "Fraction =  0.2\n"
     ]
    },
    {
     "name": "stderr",
     "output_type": "stream",
     "text": [
      "                                                                                \r"
     ]
    },
    {
     "name": "stdout",
     "output_type": "stream",
     "text": [
      "AUC = 0.642\n"
     ]
    },
    {
     "name": "stderr",
     "output_type": "stream",
     "text": [
      "                                                                                \r"
     ]
    },
    {
     "name": "stdout",
     "output_type": "stream",
     "text": [
      "ATE = -0.4463\n",
      "\n",
      "\n",
      "Fraction =  0.3\n"
     ]
    },
    {
     "name": "stderr",
     "output_type": "stream",
     "text": [
      "                                                                                \r"
     ]
    },
    {
     "name": "stdout",
     "output_type": "stream",
     "text": [
      "AUC = 0.643\n"
     ]
    },
    {
     "name": "stderr",
     "output_type": "stream",
     "text": [
      "                                                                                \r"
     ]
    },
    {
     "name": "stdout",
     "output_type": "stream",
     "text": [
      "ATE = -0.4459\n",
      "\n",
      "\n",
      "Fraction =  0.4\n"
     ]
    },
    {
     "name": "stderr",
     "output_type": "stream",
     "text": [
      "                                                                                \r"
     ]
    },
    {
     "name": "stdout",
     "output_type": "stream",
     "text": [
      "AUC = 0.641\n"
     ]
    },
    {
     "name": "stderr",
     "output_type": "stream",
     "text": [
      "                                                                                \r"
     ]
    },
    {
     "name": "stdout",
     "output_type": "stream",
     "text": [
      "ATE = -0.4827\n",
      "\n",
      "\n",
      "Fraction =  0.5\n"
     ]
    },
    {
     "name": "stderr",
     "output_type": "stream",
     "text": [
      "                                                                                \r"
     ]
    },
    {
     "name": "stdout",
     "output_type": "stream",
     "text": [
      "AUC = 0.64\n"
     ]
    },
    {
     "name": "stderr",
     "output_type": "stream",
     "text": [
      "                                                                                \r"
     ]
    },
    {
     "name": "stdout",
     "output_type": "stream",
     "text": [
      "ATE = -0.389\n",
      "\n",
      "\n",
      "Fraction =  0.6\n"
     ]
    },
    {
     "name": "stderr",
     "output_type": "stream",
     "text": [
      "                                                                                \r"
     ]
    },
    {
     "name": "stdout",
     "output_type": "stream",
     "text": [
      "AUC = 0.643\n"
     ]
    },
    {
     "name": "stderr",
     "output_type": "stream",
     "text": [
      "                                                                                \r"
     ]
    },
    {
     "name": "stdout",
     "output_type": "stream",
     "text": [
      "ATE = -0.3706\n",
      "\n",
      "\n",
      "Fraction =  0.7\n"
     ]
    },
    {
     "name": "stderr",
     "output_type": "stream",
     "text": [
      "                                                                                \r"
     ]
    },
    {
     "name": "stdout",
     "output_type": "stream",
     "text": [
      "AUC = 0.642\n"
     ]
    },
    {
     "name": "stderr",
     "output_type": "stream",
     "text": [
      "                                                                                \r"
     ]
    },
    {
     "name": "stdout",
     "output_type": "stream",
     "text": [
      "ATE = -0.3737\n",
      "\n",
      "\n",
      "Fraction =  0.8\n"
     ]
    },
    {
     "name": "stderr",
     "output_type": "stream",
     "text": [
      "                                                                                \r"
     ]
    },
    {
     "name": "stdout",
     "output_type": "stream",
     "text": [
      "AUC = 0.642\n"
     ]
    },
    {
     "name": "stderr",
     "output_type": "stream",
     "text": [
      "                                                                                \r"
     ]
    },
    {
     "name": "stdout",
     "output_type": "stream",
     "text": [
      "ATE = -0.452\n"
     ]
    }
   ],
   "source": [
    "from sklearn.neighbors import NearestNeighbors\n",
    "\n",
    "for i in fraction:\n",
    "    print(\"\\n\")\n",
    "    print(\"Fraction = \", i)\n",
    "    df_major = df.filter(F.col(\"Rained\") == 0).sample(withReplacement=False, fraction=i, seed=1) \n",
    "    df_minor = df.filter(F.col(\"Rained\") == 1)\n",
    "    df_balanced = df_minor.union(df_major)\n",
    "    df_ps = df_balanced.select(selected_columns)\n",
    "\n",
    "    # Define the covariates\n",
    "    assembler = VectorAssembler(inputCols=covariates, outputCol=\"features\")\n",
    "    train_data, test_data = df_ps.randomSplit([0.8, 0.2], seed=1)\n",
    "    lr = LogisticRegression(featuresCol='features', labelCol='Rained', maxIter=10)\n",
    "    pipeline = Pipeline(stages=[assembler, lr])\n",
    "    model = pipeline.fit(train_data)\n",
    "\n",
    "    # Predict and add the propensity scores to the DataFrame\n",
    "    ps = model.transform(test_data).select('Duration', 'Rained', 'features', 'probability')\n",
    "\n",
    "    # Extract the probability of treatment (i.e., the propensity score)\n",
    "    extract_prob = udf(lambda x: float(x[1]), FloatType())\n",
    "    ps = ps.withColumn(\"propensity_score\", extract_prob('probability'))\n",
    "\n",
    "    # Evaluate model performance on the test data\n",
    "    auc = BinaryClassificationEvaluator(labelCol='Rained', rawPredictionCol='probability', metricName='areaUnderROC')\n",
    "    AUC = round(auc.evaluate(ps), 3)\n",
    "    print('AUC =', AUC)\n",
    "\n",
    "    ps_pd = ps.toPandas()\n",
    "\n",
    "    # Create two dataframes for treatment and control groups\n",
    "    df_treatment = ps_pd[ps_pd['Rained'] == 1]\n",
    "    df_control = ps_pd[ps_pd['Rained'] == 0]\n",
    "\n",
    "    # Fit nearest neighbors model to control group\n",
    "    nbrs = NearestNeighbors(n_neighbors=1).fit(df_control[['propensity_score']])\n",
    "\n",
    "    # Find nearest neighbors in control group for each treatment case\n",
    "    distances, indices = nbrs.kneighbors(df_treatment[['propensity_score']])\n",
    "\n",
    "    # Create dataframe of distances and indices\n",
    "    matches = pd.DataFrame({'distance': distances.flatten(), 'control_index': indices.flatten(),\n",
    "                            'treatment_index': df_treatment.index})\n",
    "\n",
    "    # Merge data from treatment and control cases into the matches dataframe\n",
    "    matched_pairs = matches.merge(df_treatment, left_on='treatment_index', right_index=True) \\\n",
    "        .merge(df_control, left_on='control_index', right_index=True, suffixes=('_treatment', '_control'))\n",
    "    \n",
    "    matched_pairs['treatment_effect'] = matched_pairs['Duration_treatment'] - matched_pairs['Duration_control']\n",
    "    average_treatment_effect = matched_pairs['treatment_effect'].mean()\n",
    "    print(\"ATE =\", round(average_treatment_effect, 4))"
   ]
  },
  {
   "attachments": {},
   "cell_type": "markdown",
   "metadata": {},
   "source": [
    "#### Summary"
   ]
  },
  {
   "attachments": {},
   "cell_type": "markdown",
   "metadata": {},
   "source": [
    "The average treatment effect of precipitation on accident duration (measured in hours) is -0.49 hour. "
   ]
  },
  {
   "attachments": {},
   "cell_type": "markdown",
   "metadata": {},
   "source": [
    "### Distance"
   ]
  },
  {
   "attachments": {},
   "cell_type": "markdown",
   "metadata": {},
   "source": [
    "#### Address imbalance, calculate PS, model eval, matching, calculate ATE"
   ]
  },
  {
   "cell_type": "code",
   "execution_count": 110,
   "metadata": {},
   "outputs": [],
   "source": [
    "fraction = [0.05, 0.1, 0.2, 0.3, 0.4, 0.5, 0.6, 0.7, 0.8]\n",
    "covariates = ['Side', 'Wind_Chill(F)', 'Pressure(in)', 'Wind_Speed(mph)', 'Amenity', 'Bump', 'Crossing', \n",
    "              'Give_Way', 'Junction', 'No_Exit', 'Railway', 'Roundabout', 'Station', 'Stop', 'Traffic_Calming', \n",
    "              'Traffic_Signal', 'Turning_Loop', 'Population', 'Start_Weekday_vec', 'Start_TOD_Category_vec']\n",
    "selected_columns = [\"Distance(mi)\", \"Rained\"] + covariates"
   ]
  },
  {
   "cell_type": "code",
   "execution_count": 111,
   "metadata": {},
   "outputs": [
    {
     "name": "stdout",
     "output_type": "stream",
     "text": [
      "\n",
      "\n",
      "Fraction =  0.05\n"
     ]
    },
    {
     "name": "stderr",
     "output_type": "stream",
     "text": [
      "                                                                                \r"
     ]
    },
    {
     "name": "stdout",
     "output_type": "stream",
     "text": [
      "AUC = 0.645\n"
     ]
    },
    {
     "name": "stderr",
     "output_type": "stream",
     "text": [
      "                                                                                \r"
     ]
    },
    {
     "name": "stdout",
     "output_type": "stream",
     "text": [
      "ATE = 0.1948\n",
      "\n",
      "\n",
      "Fraction =  0.1\n"
     ]
    },
    {
     "name": "stderr",
     "output_type": "stream",
     "text": [
      "                                                                                \r"
     ]
    },
    {
     "name": "stdout",
     "output_type": "stream",
     "text": [
      "AUC = 0.645\n"
     ]
    },
    {
     "name": "stderr",
     "output_type": "stream",
     "text": [
      "                                                                                \r"
     ]
    },
    {
     "name": "stdout",
     "output_type": "stream",
     "text": [
      "ATE = 0.0214\n",
      "\n",
      "\n",
      "Fraction =  0.2\n"
     ]
    },
    {
     "name": "stderr",
     "output_type": "stream",
     "text": [
      "                                                                                \r"
     ]
    },
    {
     "name": "stdout",
     "output_type": "stream",
     "text": [
      "AUC = 0.644\n"
     ]
    },
    {
     "name": "stderr",
     "output_type": "stream",
     "text": [
      "                                                                                \r"
     ]
    },
    {
     "name": "stdout",
     "output_type": "stream",
     "text": [
      "ATE = 0.1278\n",
      "\n",
      "\n",
      "Fraction =  0.3\n"
     ]
    },
    {
     "name": "stderr",
     "output_type": "stream",
     "text": [
      "                                                                                \r"
     ]
    },
    {
     "name": "stdout",
     "output_type": "stream",
     "text": [
      "AUC = 0.645\n"
     ]
    },
    {
     "name": "stderr",
     "output_type": "stream",
     "text": [
      "                                                                                \r"
     ]
    },
    {
     "name": "stdout",
     "output_type": "stream",
     "text": [
      "ATE = 0.1384\n",
      "\n",
      "\n",
      "Fraction =  0.4\n"
     ]
    },
    {
     "name": "stderr",
     "output_type": "stream",
     "text": [
      "                                                                                \r"
     ]
    },
    {
     "name": "stdout",
     "output_type": "stream",
     "text": [
      "AUC = 0.646\n"
     ]
    },
    {
     "name": "stderr",
     "output_type": "stream",
     "text": [
      "                                                                                \r"
     ]
    },
    {
     "name": "stdout",
     "output_type": "stream",
     "text": [
      "ATE = 0.1333\n",
      "\n",
      "\n",
      "Fraction =  0.5\n"
     ]
    },
    {
     "name": "stderr",
     "output_type": "stream",
     "text": [
      "                                                                                \r"
     ]
    },
    {
     "name": "stdout",
     "output_type": "stream",
     "text": [
      "AUC = 0.645\n"
     ]
    },
    {
     "name": "stderr",
     "output_type": "stream",
     "text": [
      "                                                                                \r"
     ]
    },
    {
     "name": "stdout",
     "output_type": "stream",
     "text": [
      "ATE = 0.1145\n",
      "\n",
      "\n",
      "Fraction =  0.6\n"
     ]
    },
    {
     "name": "stderr",
     "output_type": "stream",
     "text": [
      "                                                                                \r"
     ]
    },
    {
     "name": "stdout",
     "output_type": "stream",
     "text": [
      "AUC = 0.646\n"
     ]
    },
    {
     "name": "stderr",
     "output_type": "stream",
     "text": [
      "                                                                                \r"
     ]
    },
    {
     "name": "stdout",
     "output_type": "stream",
     "text": [
      "ATE = 0.0895\n",
      "\n",
      "\n",
      "Fraction =  0.7\n"
     ]
    },
    {
     "name": "stderr",
     "output_type": "stream",
     "text": [
      "                                                                                \r"
     ]
    },
    {
     "name": "stdout",
     "output_type": "stream",
     "text": [
      "AUC = 0.645\n"
     ]
    },
    {
     "name": "stderr",
     "output_type": "stream",
     "text": [
      "                                                                                \r"
     ]
    },
    {
     "name": "stdout",
     "output_type": "stream",
     "text": [
      "ATE = 0.0547\n",
      "\n",
      "\n",
      "Fraction =  0.8\n"
     ]
    },
    {
     "name": "stderr",
     "output_type": "stream",
     "text": [
      "                                                                                \r"
     ]
    },
    {
     "name": "stdout",
     "output_type": "stream",
     "text": [
      "AUC = 0.645\n"
     ]
    },
    {
     "name": "stderr",
     "output_type": "stream",
     "text": [
      "                                                                                \r"
     ]
    },
    {
     "name": "stdout",
     "output_type": "stream",
     "text": [
      "ATE = 0.1131\n"
     ]
    }
   ],
   "source": [
    "from sklearn.neighbors import NearestNeighbors\n",
    "\n",
    "for i in fraction:\n",
    "    print(\"\\n\")\n",
    "    print(\"Fraction = \", i)\n",
    "    df_major = df.filter(F.col(\"Rained\") == 0).sample(withReplacement=False, fraction=i, seed=1) \n",
    "    df_minor = df.filter(F.col(\"Rained\") == 1)\n",
    "    df_balanced = df_minor.union(df_major)\n",
    "    df_ps = df_balanced.select(selected_columns)\n",
    "\n",
    "    # Define the covariates\n",
    "    assembler = VectorAssembler(inputCols=covariates, outputCol=\"features\")\n",
    "    train_data, test_data = df_ps.randomSplit([0.8, 0.2], seed=1)\n",
    "    lr = LogisticRegression(featuresCol='features', labelCol='Rained', maxIter=10)\n",
    "    pipeline = Pipeline(stages=[assembler, lr])\n",
    "    model = pipeline.fit(train_data)\n",
    "\n",
    "    # Predict and add the propensity scores to the DataFrame\n",
    "    ps = model.transform(test_data).select('Distance(mi)', 'Rained', 'features', 'probability')\n",
    "\n",
    "    # Extract the probability of treatment (i.e., the propensity score)\n",
    "    extract_prob = udf(lambda x: float(x[1]), FloatType())\n",
    "    ps = ps.withColumn(\"propensity_score\", extract_prob('probability'))\n",
    "\n",
    "    # Evaluate model performance on the test data\n",
    "    auc = BinaryClassificationEvaluator(labelCol='Rained', rawPredictionCol='probability', metricName='areaUnderROC')\n",
    "    AUC = round(auc.evaluate(ps), 3)\n",
    "    print('AUC =', AUC)\n",
    "\n",
    "    ps_pd = ps.toPandas()\n",
    "\n",
    "    # Create two dataframes for treatment and control groups\n",
    "    df_treatment = ps_pd[ps_pd['Rained'] == 1]\n",
    "    df_control = ps_pd[ps_pd['Rained'] == 0]\n",
    "\n",
    "    # Fit nearest neighbors model to control group\n",
    "    nbrs = NearestNeighbors(n_neighbors=1).fit(df_control[['propensity_score']])\n",
    "\n",
    "    # Find nearest neighbors in control group for each treatment case\n",
    "    distances, indices = nbrs.kneighbors(df_treatment[['propensity_score']])\n",
    "\n",
    "    # Create dataframe of distances and indices\n",
    "    matches = pd.DataFrame({'distance': distances.flatten(), 'control_index': indices.flatten(),\n",
    "                            'treatment_index': df_treatment.index})\n",
    "\n",
    "    # Merge data from treatment and control cases into the matches dataframe\n",
    "    matched_pairs = matches.merge(df_treatment, left_on='treatment_index', right_index=True) \\\n",
    "        .merge(df_control, left_on='control_index', right_index=True, suffixes=('_treatment', '_control'))\n",
    "    \n",
    "    matched_pairs['treatment_effect'] = matched_pairs['Distance(mi)_treatment'] - matched_pairs['Distance(mi)_control']\n",
    "    average_treatment_effect = matched_pairs['treatment_effect'].mean()\n",
    "    print(\"ATE =\", round(average_treatment_effect, 4))"
   ]
  },
  {
   "attachments": {},
   "cell_type": "markdown",
   "metadata": {},
   "source": [
    "#### Summary"
   ]
  },
  {
   "attachments": {},
   "cell_type": "markdown",
   "metadata": {},
   "source": [
    "The average treatment effect of precipitation on accident distance impacted (measured in miles) is 0.2 miles. "
   ]
  }
 ],
 "metadata": {
  "kernelspec": {
   "display_name": "Python 3",
   "language": "python",
   "name": "python3"
  },
  "language_info": {
   "codemirror_mode": {
    "name": "ipython",
    "version": 3
   },
   "file_extension": ".py",
   "mimetype": "text/x-python",
   "name": "python",
   "nbconvert_exporter": "python",
   "pygments_lexer": "ipython3",
   "version": "3.10.7"
  },
  "orig_nbformat": 4
 },
 "nbformat": 4,
 "nbformat_minor": 2
}
